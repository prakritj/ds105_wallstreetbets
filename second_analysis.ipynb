{
 "cells": [
  {
   "cell_type": "code",
   "execution_count": null,
   "metadata": {},
   "outputs": [],
   "source": [
    "import pandas as pd\n",
    "import random"
   ]
  },
  {
   "cell_type": "code",
   "execution_count": null,
   "metadata": {},
   "outputs": [],
   "source": [
    "comments_df = pd.read_pickle('WSB_Comments.pickle')"
   ]
  },
  {
   "cell_type": "code",
   "execution_count": null,
   "metadata": {},
   "outputs": [],
   "source": [
    "def contains_word(s, w):\n",
    "    return (' ' + w + ' ') in (' ' + s + ' ')"
   ]
  },
  {
   "cell_type": "code",
   "execution_count": null,
   "metadata": {},
   "outputs": [],
   "source": [
    "def stock_comments(ticker):\n",
    "    stock_comments_list = list()\n",
    "    for comment in comments_df.itertuples():\n",
    "        if contains_word(comment.body, ticker):\n",
    "            stock_comments_list.append(comment.body)\n",
    "    return stock_comments_list\n",
    "\n"
   ]
  },
  {
   "cell_type": "code",
   "execution_count": null,
   "metadata": {},
   "outputs": [],
   "source": [
    "def random_stock_comments(ticker, number):\n",
    "    temp_list = stock_comments(ticker)\n",
    "    random.shuffle(temp_list)\n",
    "    return temp_list[:number]"
   ]
  },
  {
   "cell_type": "code",
   "execution_count": null,
   "metadata": {},
   "outputs": [],
   "source": [
    "you_comments_list=stock_comments('YOU')"
   ]
  },
  {
   "cell_type": "code",
   "execution_count": null,
   "metadata": {},
   "outputs": [],
   "source": [
    "you_comments_list"
   ]
  },
  {
   "cell_type": "code",
   "execution_count": null,
   "metadata": {},
   "outputs": [],
   "source": [
    "random.shuffle(you_comments_list)"
   ]
  },
  {
   "cell_type": "code",
   "execution_count": null,
   "metadata": {},
   "outputs": [],
   "source": [
    "you_comments_list[:20]"
   ]
  },
  {
   "cell_type": "code",
   "execution_count": null,
   "metadata": {},
   "outputs": [],
   "source": [
    "random_stock_comments('YOU',25)"
   ]
  },
  {
   "cell_type": "code",
   "execution_count": null,
   "metadata": {},
   "outputs": [],
   "source": [
    "clean_tickers = pd.read_pickle('clean_tickers.pickle')"
   ]
  },
  {
   "cell_type": "code",
   "execution_count": null,
   "metadata": {},
   "outputs": [],
   "source": [
    "clean_tickers.head(35)"
   ]
  },
  {
   "cell_type": "code",
   "execution_count": null,
   "metadata": {},
   "outputs": [],
   "source": [
    "random_stock_comments('GME',30)"
   ]
  },
  {
   "cell_type": "code",
   "execution_count": null,
   "metadata": {},
   "outputs": [],
   "source": [
    "random_stock_comments('AMC',25)"
   ]
  },
  {
   "cell_type": "code",
   "execution_count": null,
   "metadata": {},
   "outputs": [],
   "source": [
    "random_stock_comments('PLTR',25)"
   ]
  },
  {
   "cell_type": "code",
   "execution_count": null,
   "metadata": {},
   "outputs": [],
   "source": [
    "random_stock_comments('YOU',25)"
   ]
  },
  {
   "cell_type": "code",
   "execution_count": null,
   "metadata": {},
   "outputs": [],
   "source": [
    "random_stock_comments('NOK',30)"
   ]
  },
  {
   "cell_type": "code",
   "execution_count": null,
   "metadata": {},
   "outputs": [],
   "source": [
    "random_stock_comments('SNDL',30)"
   ]
  },
  {
   "cell_type": "code",
   "execution_count": null,
   "metadata": {},
   "outputs": [],
   "source": [
    "random_stock_comments('WISH',30)"
   ]
  },
  {
   "cell_type": "code",
   "execution_count": null,
   "metadata": {},
   "outputs": [],
   "source": [
    "random_stock_comments('TSLA',30)"
   ]
  },
  {
   "cell_type": "code",
   "execution_count": null,
   "metadata": {},
   "outputs": [],
   "source": [
    "random_stock_comments('CLOV',30)"
   ]
  },
  {
   "cell_type": "code",
   "execution_count": null,
   "metadata": {},
   "outputs": [],
   "source": [
    "random_stock_comments('MVIS',30)"
   ]
  },
  {
   "cell_type": "code",
   "execution_count": null,
   "metadata": {},
   "outputs": [],
   "source": [
    "random_stock_comments('CLNE',30)"
   ]
  },
  {
   "cell_type": "code",
   "execution_count": null,
   "metadata": {},
   "outputs": [],
   "source": [
    "random_stock_comments('FOR',30)"
   ]
  },
  {
   "cell_type": "code",
   "execution_count": null,
   "metadata": {},
   "outputs": [],
   "source": [
    "random_stock_comments('TLRY',30)"
   ]
  },
  {
   "cell_type": "code",
   "execution_count": null,
   "metadata": {},
   "outputs": [],
   "source": [
    "random_stock_comments('ALL',30)"
   ]
  },
  {
   "cell_type": "code",
   "execution_count": null,
   "metadata": {},
   "outputs": [],
   "source": [
    "random_stock_comments('ALL',30)"
   ]
  },
  {
   "cell_type": "code",
   "execution_count": null,
   "metadata": {},
   "outputs": [],
   "source": [
    "random_stock_comments('GET',30)"
   ]
  },
  {
   "cell_type": "code",
   "execution_count": null,
   "metadata": {},
   "outputs": [],
   "source": [
    "random_stock_comments('MIND',30)"
   ]
  },
  {
   "cell_type": "code",
   "execution_count": null,
   "metadata": {},
   "outputs": [],
   "source": [
    "random_stock_comments('UWMC',30)"
   ]
  },
  {
   "cell_type": "code",
   "execution_count": null,
   "metadata": {},
   "outputs": [],
   "source": [
    "random_stock_comments('EOD',30)"
   ]
  },
  {
   "cell_type": "code",
   "execution_count": null,
   "metadata": {},
   "outputs": [],
   "source": [
    "random_stock_comments('AAPL',30)"
   ]
  },
  {
   "cell_type": "code",
   "execution_count": null,
   "metadata": {},
   "outputs": [],
   "source": [
    "random_stock_comments('RKT',30)"
   ]
  },
  {
   "cell_type": "code",
   "execution_count": null,
   "metadata": {},
   "outputs": [],
   "source": [
    "random_stock_comments('CAN',30)"
   ]
  },
  {
   "cell_type": "code",
   "execution_count": null,
   "metadata": {},
   "outputs": [],
   "source": [
    "random_stock_comments('PLAY',30)"
   ]
  },
  {
   "cell_type": "code",
   "execution_count": null,
   "metadata": {},
   "outputs": [],
   "source": [
    "random_stock_comments('PLAY',30)"
   ]
  },
  {
   "cell_type": "code",
   "execution_count": null,
   "metadata": {},
   "outputs": [],
   "source": [
    "random_stock_comments('WKHS',30)"
   ]
  },
  {
   "cell_type": "code",
   "execution_count": null,
   "metadata": {},
   "outputs": [],
   "source": [
    "random_stock_comments('NIO',30)"
   ]
  },
  {
   "cell_type": "code",
   "execution_count": null,
   "metadata": {},
   "outputs": [],
   "source": [
    "random_stock_comments('EDIT',30)"
   ]
  },
  {
   "cell_type": "code",
   "execution_count": null,
   "metadata": {},
   "outputs": [],
   "source": [
    "random_stock_comments('CLF',30)"
   ]
  },
  {
   "cell_type": "code",
   "execution_count": null,
   "metadata": {},
   "outputs": [],
   "source": [
    "random_stock_comments('OUT',30)"
   ]
  },
  {
   "cell_type": "code",
   "execution_count": null,
   "metadata": {},
   "outputs": [],
   "source": [
    "random_stock_comments('AMD',30)"
   ]
  },
  {
   "cell_type": "code",
   "execution_count": null,
   "metadata": {},
   "outputs": [],
   "source": [
    "random_stock_comments('AMD',30)"
   ]
  },
  {
   "cell_type": "code",
   "execution_count": null,
   "metadata": {},
   "outputs": [],
   "source": [
    "random_stock_comments('NOW',30)"
   ]
  },
  {
   "cell_type": "code",
   "execution_count": null,
   "metadata": {},
   "outputs": [],
   "source": [
    "random_stock_comments('SPCE',30)"
   ]
  },
  {
   "cell_type": "code",
   "execution_count": null,
   "metadata": {},
   "outputs": [],
   "source": [
    "random_stock_comments('SEE',30)"
   ]
  },
  {
   "cell_type": "code",
   "execution_count": 62,
   "metadata": {},
   "outputs": [],
   "source": [
    "new_clean_tickers = clean_tickers.head(35)"
   ]
  },
  {
   "cell_type": "code",
   "execution_count": 67,
   "metadata": {},
   "outputs": [],
   "source": [
    "filtered_tickers = pd.read_csv('buy_sell_tickers.csv')"
   ]
  },
  {
   "cell_type": "code",
   "execution_count": 68,
   "metadata": {},
   "outputs": [
    {
     "data": {
      "text/html": [
       "<div>\n",
       "<style scoped>\n",
       "    .dataframe tbody tr th:only-of-type {\n",
       "        vertical-align: middle;\n",
       "    }\n",
       "\n",
       "    .dataframe tbody tr th {\n",
       "        vertical-align: top;\n",
       "    }\n",
       "\n",
       "    .dataframe thead th {\n",
       "        text-align: right;\n",
       "    }\n",
       "</style>\n",
       "<table border=\"1\" class=\"dataframe\">\n",
       "  <thead>\n",
       "    <tr style=\"text-align: right;\">\n",
       "      <th></th>\n",
       "      <th>row</th>\n",
       "      <th>ticker</th>\n",
       "      <th>frequency</th>\n",
       "      <th>score</th>\n",
       "      <th>buy_bin</th>\n",
       "    </tr>\n",
       "  </thead>\n",
       "  <tbody>\n",
       "    <tr>\n",
       "      <th>0</th>\n",
       "      <td>27</td>\n",
       "      <td>GME</td>\n",
       "      <td>7554</td>\n",
       "      <td>360351</td>\n",
       "      <td>buy</td>\n",
       "    </tr>\n",
       "    <tr>\n",
       "      <th>1</th>\n",
       "      <td>23</td>\n",
       "      <td>AMC</td>\n",
       "      <td>5879</td>\n",
       "      <td>206158</td>\n",
       "      <td>buy</td>\n",
       "    </tr>\n",
       "    <tr>\n",
       "      <th>2</th>\n",
       "      <td>7</td>\n",
       "      <td>PLTR</td>\n",
       "      <td>4992</td>\n",
       "      <td>90611</td>\n",
       "      <td>buy</td>\n",
       "    </tr>\n",
       "    <tr>\n",
       "      <th>3</th>\n",
       "      <td>71</td>\n",
       "      <td>YOU</td>\n",
       "      <td>934</td>\n",
       "      <td>57297</td>\n",
       "      <td>bin</td>\n",
       "    </tr>\n",
       "    <tr>\n",
       "      <th>4</th>\n",
       "      <td>92</td>\n",
       "      <td>NOK</td>\n",
       "      <td>936</td>\n",
       "      <td>44803</td>\n",
       "      <td>buy</td>\n",
       "    </tr>\n",
       "    <tr>\n",
       "      <th>5</th>\n",
       "      <td>32</td>\n",
       "      <td>SNDL</td>\n",
       "      <td>1252</td>\n",
       "      <td>37284</td>\n",
       "      <td>buy</td>\n",
       "    </tr>\n",
       "    <tr>\n",
       "      <th>6</th>\n",
       "      <td>9</td>\n",
       "      <td>WISH</td>\n",
       "      <td>1826</td>\n",
       "      <td>35522</td>\n",
       "      <td>buy</td>\n",
       "    </tr>\n",
       "    <tr>\n",
       "      <th>7</th>\n",
       "      <td>25</td>\n",
       "      <td>TSLA</td>\n",
       "      <td>2119</td>\n",
       "      <td>30824</td>\n",
       "      <td>buy</td>\n",
       "    </tr>\n",
       "    <tr>\n",
       "      <th>8</th>\n",
       "      <td>28</td>\n",
       "      <td>CLOV</td>\n",
       "      <td>1544</td>\n",
       "      <td>28758</td>\n",
       "      <td>buy</td>\n",
       "    </tr>\n",
       "    <tr>\n",
       "      <th>9</th>\n",
       "      <td>117</td>\n",
       "      <td>MVIS</td>\n",
       "      <td>1303</td>\n",
       "      <td>27584</td>\n",
       "      <td>buy</td>\n",
       "    </tr>\n",
       "    <tr>\n",
       "      <th>10</th>\n",
       "      <td>1</td>\n",
       "      <td>CLNE</td>\n",
       "      <td>1373</td>\n",
       "      <td>26641</td>\n",
       "      <td>buy</td>\n",
       "    </tr>\n",
       "    <tr>\n",
       "      <th>11</th>\n",
       "      <td>83</td>\n",
       "      <td>FOR</td>\n",
       "      <td>338</td>\n",
       "      <td>24087</td>\n",
       "      <td>bin</td>\n",
       "    </tr>\n",
       "    <tr>\n",
       "      <th>12</th>\n",
       "      <td>8</td>\n",
       "      <td>TLRY</td>\n",
       "      <td>1311</td>\n",
       "      <td>23135</td>\n",
       "      <td>buy</td>\n",
       "    </tr>\n",
       "    <tr>\n",
       "      <th>13</th>\n",
       "      <td>16</td>\n",
       "      <td>ALL</td>\n",
       "      <td>356</td>\n",
       "      <td>20279</td>\n",
       "      <td>bin</td>\n",
       "    </tr>\n",
       "    <tr>\n",
       "      <th>14</th>\n",
       "      <td>81</td>\n",
       "      <td>ARE</td>\n",
       "      <td>390</td>\n",
       "      <td>19128</td>\n",
       "      <td>bin</td>\n",
       "    </tr>\n",
       "    <tr>\n",
       "      <th>15</th>\n",
       "      <td>78</td>\n",
       "      <td>GET</td>\n",
       "      <td>350</td>\n",
       "      <td>16589</td>\n",
       "      <td>bin</td>\n",
       "    </tr>\n",
       "    <tr>\n",
       "      <th>16</th>\n",
       "      <td>384</td>\n",
       "      <td>MIND</td>\n",
       "      <td>8</td>\n",
       "      <td>15207</td>\n",
       "      <td>bin</td>\n",
       "    </tr>\n",
       "    <tr>\n",
       "      <th>17</th>\n",
       "      <td>22</td>\n",
       "      <td>UWMC</td>\n",
       "      <td>981</td>\n",
       "      <td>14844</td>\n",
       "      <td>buy</td>\n",
       "    </tr>\n",
       "    <tr>\n",
       "      <th>18</th>\n",
       "      <td>11</td>\n",
       "      <td>EOD</td>\n",
       "      <td>627</td>\n",
       "      <td>14158</td>\n",
       "      <td>bin</td>\n",
       "    </tr>\n",
       "    <tr>\n",
       "      <th>19</th>\n",
       "      <td>0</td>\n",
       "      <td>AAPL</td>\n",
       "      <td>949</td>\n",
       "      <td>13625</td>\n",
       "      <td>buy</td>\n",
       "    </tr>\n",
       "    <tr>\n",
       "      <th>20</th>\n",
       "      <td>31</td>\n",
       "      <td>RKT</td>\n",
       "      <td>918</td>\n",
       "      <td>13028</td>\n",
       "      <td>buy</td>\n",
       "    </tr>\n",
       "    <tr>\n",
       "      <th>21</th>\n",
       "      <td>18</td>\n",
       "      <td>CAN</td>\n",
       "      <td>141</td>\n",
       "      <td>12593</td>\n",
       "      <td>bin</td>\n",
       "    </tr>\n",
       "    <tr>\n",
       "      <th>22</th>\n",
       "      <td>102</td>\n",
       "      <td>PLAY</td>\n",
       "      <td>36</td>\n",
       "      <td>11003</td>\n",
       "      <td>bin</td>\n",
       "    </tr>\n",
       "    <tr>\n",
       "      <th>23</th>\n",
       "      <td>30</td>\n",
       "      <td>WKHS</td>\n",
       "      <td>655</td>\n",
       "      <td>10360</td>\n",
       "      <td>buy</td>\n",
       "    </tr>\n",
       "    <tr>\n",
       "      <th>24</th>\n",
       "      <td>5</td>\n",
       "      <td>NIO</td>\n",
       "      <td>585</td>\n",
       "      <td>8015</td>\n",
       "      <td>buy</td>\n",
       "    </tr>\n",
       "    <tr>\n",
       "      <th>25</th>\n",
       "      <td>15</td>\n",
       "      <td>EDIT</td>\n",
       "      <td>42</td>\n",
       "      <td>7129</td>\n",
       "      <td>buy</td>\n",
       "    </tr>\n",
       "    <tr>\n",
       "      <th>26</th>\n",
       "      <td>41</td>\n",
       "      <td>CLF</td>\n",
       "      <td>471</td>\n",
       "      <td>7090</td>\n",
       "      <td>buy</td>\n",
       "    </tr>\n",
       "    <tr>\n",
       "      <th>27</th>\n",
       "      <td>44</td>\n",
       "      <td>OUT</td>\n",
       "      <td>110</td>\n",
       "      <td>6896</td>\n",
       "      <td>bin</td>\n",
       "    </tr>\n",
       "    <tr>\n",
       "      <th>28</th>\n",
       "      <td>2</td>\n",
       "      <td>AMD</td>\n",
       "      <td>629</td>\n",
       "      <td>6643</td>\n",
       "      <td>buy</td>\n",
       "    </tr>\n",
       "    <tr>\n",
       "      <th>29</th>\n",
       "      <td>10</td>\n",
       "      <td>NOW</td>\n",
       "      <td>241</td>\n",
       "      <td>6304</td>\n",
       "      <td>bin</td>\n",
       "    </tr>\n",
       "    <tr>\n",
       "      <th>30</th>\n",
       "      <td>14</td>\n",
       "      <td>SPCE</td>\n",
       "      <td>440</td>\n",
       "      <td>6017</td>\n",
       "      <td>buy</td>\n",
       "    </tr>\n",
       "    <tr>\n",
       "      <th>31</th>\n",
       "      <td>42</td>\n",
       "      <td>CRSR</td>\n",
       "      <td>288</td>\n",
       "      <td>5124</td>\n",
       "      <td>buy</td>\n",
       "    </tr>\n",
       "    <tr>\n",
       "      <th>32</th>\n",
       "      <td>46</td>\n",
       "      <td>ASO</td>\n",
       "      <td>399</td>\n",
       "      <td>5019</td>\n",
       "      <td>buy</td>\n",
       "    </tr>\n",
       "    <tr>\n",
       "      <th>33</th>\n",
       "      <td>124</td>\n",
       "      <td>OCGN</td>\n",
       "      <td>323</td>\n",
       "      <td>4981</td>\n",
       "      <td>buy</td>\n",
       "    </tr>\n",
       "    <tr>\n",
       "      <th>34</th>\n",
       "      <td>19</td>\n",
       "      <td>SEE</td>\n",
       "      <td>52</td>\n",
       "      <td>4848</td>\n",
       "      <td>bin</td>\n",
       "    </tr>\n",
       "  </tbody>\n",
       "</table>\n",
       "</div>"
      ],
      "text/plain": [
       "    row ticker  frequency   score buy_bin\n",
       "0    27    GME       7554  360351     buy\n",
       "1    23    AMC       5879  206158     buy\n",
       "2     7   PLTR       4992   90611     buy\n",
       "3    71    YOU        934   57297     bin\n",
       "4    92    NOK        936   44803     buy\n",
       "5    32   SNDL       1252   37284     buy\n",
       "6     9   WISH       1826   35522     buy\n",
       "7    25   TSLA       2119   30824     buy\n",
       "8    28   CLOV       1544   28758     buy\n",
       "9   117   MVIS       1303   27584     buy\n",
       "10    1   CLNE       1373   26641     buy\n",
       "11   83    FOR        338   24087     bin\n",
       "12    8   TLRY       1311   23135     buy\n",
       "13   16    ALL        356   20279     bin\n",
       "14   81    ARE        390   19128     bin\n",
       "15   78    GET        350   16589     bin\n",
       "16  384   MIND          8   15207     bin\n",
       "17   22   UWMC        981   14844     buy\n",
       "18   11    EOD        627   14158     bin\n",
       "19    0   AAPL        949   13625     buy\n",
       "20   31    RKT        918   13028     buy\n",
       "21   18    CAN        141   12593     bin\n",
       "22  102   PLAY         36   11003     bin\n",
       "23   30   WKHS        655   10360     buy\n",
       "24    5    NIO        585    8015     buy\n",
       "25   15   EDIT         42    7129     buy\n",
       "26   41    CLF        471    7090     buy\n",
       "27   44    OUT        110    6896     bin\n",
       "28    2    AMD        629    6643     buy\n",
       "29   10    NOW        241    6304     bin\n",
       "30   14   SPCE        440    6017     buy\n",
       "31   42   CRSR        288    5124     buy\n",
       "32   46    ASO        399    5019     buy\n",
       "33  124   OCGN        323    4981     buy\n",
       "34   19    SEE         52    4848     bin"
      ]
     },
     "execution_count": 68,
     "metadata": {},
     "output_type": "execute_result"
    }
   ],
   "source": [
    "filtered_tickers"
   ]
  },
  {
   "cell_type": "code",
   "execution_count": 72,
   "metadata": {},
   "outputs": [],
   "source": [
    "more_clean_tickers = filtered_tickers[(filtered_tickers['buy_bin']=='buy')]"
   ]
  },
  {
   "cell_type": "code",
   "execution_count": 73,
   "metadata": {},
   "outputs": [
    {
     "data": {
      "text/html": [
       "<div>\n",
       "<style scoped>\n",
       "    .dataframe tbody tr th:only-of-type {\n",
       "        vertical-align: middle;\n",
       "    }\n",
       "\n",
       "    .dataframe tbody tr th {\n",
       "        vertical-align: top;\n",
       "    }\n",
       "\n",
       "    .dataframe thead th {\n",
       "        text-align: right;\n",
       "    }\n",
       "</style>\n",
       "<table border=\"1\" class=\"dataframe\">\n",
       "  <thead>\n",
       "    <tr style=\"text-align: right;\">\n",
       "      <th></th>\n",
       "      <th>row</th>\n",
       "      <th>ticker</th>\n",
       "      <th>frequency</th>\n",
       "      <th>score</th>\n",
       "      <th>buy_bin</th>\n",
       "    </tr>\n",
       "  </thead>\n",
       "  <tbody>\n",
       "    <tr>\n",
       "      <th>0</th>\n",
       "      <td>27</td>\n",
       "      <td>GME</td>\n",
       "      <td>7554</td>\n",
       "      <td>360351</td>\n",
       "      <td>buy</td>\n",
       "    </tr>\n",
       "    <tr>\n",
       "      <th>1</th>\n",
       "      <td>23</td>\n",
       "      <td>AMC</td>\n",
       "      <td>5879</td>\n",
       "      <td>206158</td>\n",
       "      <td>buy</td>\n",
       "    </tr>\n",
       "    <tr>\n",
       "      <th>2</th>\n",
       "      <td>7</td>\n",
       "      <td>PLTR</td>\n",
       "      <td>4992</td>\n",
       "      <td>90611</td>\n",
       "      <td>buy</td>\n",
       "    </tr>\n",
       "    <tr>\n",
       "      <th>4</th>\n",
       "      <td>92</td>\n",
       "      <td>NOK</td>\n",
       "      <td>936</td>\n",
       "      <td>44803</td>\n",
       "      <td>buy</td>\n",
       "    </tr>\n",
       "    <tr>\n",
       "      <th>5</th>\n",
       "      <td>32</td>\n",
       "      <td>SNDL</td>\n",
       "      <td>1252</td>\n",
       "      <td>37284</td>\n",
       "      <td>buy</td>\n",
       "    </tr>\n",
       "    <tr>\n",
       "      <th>6</th>\n",
       "      <td>9</td>\n",
       "      <td>WISH</td>\n",
       "      <td>1826</td>\n",
       "      <td>35522</td>\n",
       "      <td>buy</td>\n",
       "    </tr>\n",
       "    <tr>\n",
       "      <th>7</th>\n",
       "      <td>25</td>\n",
       "      <td>TSLA</td>\n",
       "      <td>2119</td>\n",
       "      <td>30824</td>\n",
       "      <td>buy</td>\n",
       "    </tr>\n",
       "    <tr>\n",
       "      <th>8</th>\n",
       "      <td>28</td>\n",
       "      <td>CLOV</td>\n",
       "      <td>1544</td>\n",
       "      <td>28758</td>\n",
       "      <td>buy</td>\n",
       "    </tr>\n",
       "    <tr>\n",
       "      <th>9</th>\n",
       "      <td>117</td>\n",
       "      <td>MVIS</td>\n",
       "      <td>1303</td>\n",
       "      <td>27584</td>\n",
       "      <td>buy</td>\n",
       "    </tr>\n",
       "    <tr>\n",
       "      <th>10</th>\n",
       "      <td>1</td>\n",
       "      <td>CLNE</td>\n",
       "      <td>1373</td>\n",
       "      <td>26641</td>\n",
       "      <td>buy</td>\n",
       "    </tr>\n",
       "    <tr>\n",
       "      <th>12</th>\n",
       "      <td>8</td>\n",
       "      <td>TLRY</td>\n",
       "      <td>1311</td>\n",
       "      <td>23135</td>\n",
       "      <td>buy</td>\n",
       "    </tr>\n",
       "    <tr>\n",
       "      <th>17</th>\n",
       "      <td>22</td>\n",
       "      <td>UWMC</td>\n",
       "      <td>981</td>\n",
       "      <td>14844</td>\n",
       "      <td>buy</td>\n",
       "    </tr>\n",
       "    <tr>\n",
       "      <th>19</th>\n",
       "      <td>0</td>\n",
       "      <td>AAPL</td>\n",
       "      <td>949</td>\n",
       "      <td>13625</td>\n",
       "      <td>buy</td>\n",
       "    </tr>\n",
       "    <tr>\n",
       "      <th>20</th>\n",
       "      <td>31</td>\n",
       "      <td>RKT</td>\n",
       "      <td>918</td>\n",
       "      <td>13028</td>\n",
       "      <td>buy</td>\n",
       "    </tr>\n",
       "    <tr>\n",
       "      <th>23</th>\n",
       "      <td>30</td>\n",
       "      <td>WKHS</td>\n",
       "      <td>655</td>\n",
       "      <td>10360</td>\n",
       "      <td>buy</td>\n",
       "    </tr>\n",
       "    <tr>\n",
       "      <th>24</th>\n",
       "      <td>5</td>\n",
       "      <td>NIO</td>\n",
       "      <td>585</td>\n",
       "      <td>8015</td>\n",
       "      <td>buy</td>\n",
       "    </tr>\n",
       "    <tr>\n",
       "      <th>25</th>\n",
       "      <td>15</td>\n",
       "      <td>EDIT</td>\n",
       "      <td>42</td>\n",
       "      <td>7129</td>\n",
       "      <td>buy</td>\n",
       "    </tr>\n",
       "    <tr>\n",
       "      <th>26</th>\n",
       "      <td>41</td>\n",
       "      <td>CLF</td>\n",
       "      <td>471</td>\n",
       "      <td>7090</td>\n",
       "      <td>buy</td>\n",
       "    </tr>\n",
       "    <tr>\n",
       "      <th>28</th>\n",
       "      <td>2</td>\n",
       "      <td>AMD</td>\n",
       "      <td>629</td>\n",
       "      <td>6643</td>\n",
       "      <td>buy</td>\n",
       "    </tr>\n",
       "    <tr>\n",
       "      <th>30</th>\n",
       "      <td>14</td>\n",
       "      <td>SPCE</td>\n",
       "      <td>440</td>\n",
       "      <td>6017</td>\n",
       "      <td>buy</td>\n",
       "    </tr>\n",
       "    <tr>\n",
       "      <th>31</th>\n",
       "      <td>42</td>\n",
       "      <td>CRSR</td>\n",
       "      <td>288</td>\n",
       "      <td>5124</td>\n",
       "      <td>buy</td>\n",
       "    </tr>\n",
       "    <tr>\n",
       "      <th>32</th>\n",
       "      <td>46</td>\n",
       "      <td>ASO</td>\n",
       "      <td>399</td>\n",
       "      <td>5019</td>\n",
       "      <td>buy</td>\n",
       "    </tr>\n",
       "    <tr>\n",
       "      <th>33</th>\n",
       "      <td>124</td>\n",
       "      <td>OCGN</td>\n",
       "      <td>323</td>\n",
       "      <td>4981</td>\n",
       "      <td>buy</td>\n",
       "    </tr>\n",
       "  </tbody>\n",
       "</table>\n",
       "</div>"
      ],
      "text/plain": [
       "    row ticker  frequency   score buy_bin\n",
       "0    27    GME       7554  360351     buy\n",
       "1    23    AMC       5879  206158     buy\n",
       "2     7   PLTR       4992   90611     buy\n",
       "4    92    NOK        936   44803     buy\n",
       "5    32   SNDL       1252   37284     buy\n",
       "6     9   WISH       1826   35522     buy\n",
       "7    25   TSLA       2119   30824     buy\n",
       "8    28   CLOV       1544   28758     buy\n",
       "9   117   MVIS       1303   27584     buy\n",
       "10    1   CLNE       1373   26641     buy\n",
       "12    8   TLRY       1311   23135     buy\n",
       "17   22   UWMC        981   14844     buy\n",
       "19    0   AAPL        949   13625     buy\n",
       "20   31    RKT        918   13028     buy\n",
       "23   30   WKHS        655   10360     buy\n",
       "24    5    NIO        585    8015     buy\n",
       "25   15   EDIT         42    7129     buy\n",
       "26   41    CLF        471    7090     buy\n",
       "28    2    AMD        629    6643     buy\n",
       "30   14   SPCE        440    6017     buy\n",
       "31   42   CRSR        288    5124     buy\n",
       "32   46    ASO        399    5019     buy\n",
       "33  124   OCGN        323    4981     buy"
      ]
     },
     "execution_count": 73,
     "metadata": {},
     "output_type": "execute_result"
    }
   ],
   "source": [
    "more_clean_tickers"
   ]
  },
  {
   "cell_type": "code",
   "execution_count": null,
   "metadata": {},
   "outputs": [],
   "source": [
    "more_clean_tickers.to_csv('filtered_clean_tickers.csv')\n",
    "more_clean_tickers.to_pickle('filtered_clean_tickers.pickle')"
   ]
  }
 ],
 "metadata": {
  "interpreter": {
   "hash": "625c31d6b4db3d7e7e2853cc30dc2062e1cda684f3e49d5f899ae496ae755fe0"
  },
  "kernelspec": {
   "display_name": "Python 3.8.12 64-bit ('3.8.12': pyenv)",
   "name": "python3"
  },
  "language_info": {
   "codemirror_mode": {
    "name": "ipython",
    "version": 3
   },
   "file_extension": ".py",
   "mimetype": "text/x-python",
   "name": "python",
   "nbconvert_exporter": "python",
   "pygments_lexer": "ipython3",
   "version": "3.8.12"
  },
  "orig_nbformat": 4
 },
 "nbformat": 4,
 "nbformat_minor": 2
}
